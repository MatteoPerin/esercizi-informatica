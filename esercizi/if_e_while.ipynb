{
  "cells": [
    {
      "cell_type": "markdown",
      "metadata": {
        "id": "HB3XbPDcSqe1"
      },
      "source": [
        "# Esercizi IF"
      ]
    },
    {
      "cell_type": "code",
      "execution_count": 6,
      "metadata": {
        "id": "0U7L9A29RfeT"
      },
      "outputs": [
        {
          "name": "stdout",
          "output_type": "stream",
          "text": [
            "per favore, inserisci un numero\n",
            "il tuo numero è dispari\n"
          ]
        }
      ],
      "source": [
        "# Es 4.1: Ottenere dall'utente un numero in input e scrivere a schermo \"Pari\" se il numero è pari, scrivere \"Dispari\" altrimenti\n",
        "print (\"per favore, inserisci un numero\")\n",
        "x=int (input ())\n",
        "if x%2==0:\n",
        "    print (\"il tuo numero è pari\")\n",
        "else:\n",
        "    print (\"il tuo numero è dispari\")\n",
        "\n"
      ]
    },
    {
      "cell_type": "code",
      "execution_count": 7,
      "metadata": {
        "id": "gE3RVr9ORuwP"
      },
      "outputs": [
        {
          "name": "stdout",
          "output_type": "stream",
          "text": [
            "inserisci i valori di tre angoli di un triangolo\n",
            "non è un triangolo\n"
          ]
        }
      ],
      "source": [
        "# Es 4.2: Ottenere dall'utente tre angoli caso siano i tre angoli di un triangolo scrivere a schermo \"È un triangolo\", altrimenti \"Non è un triangolo\"\n",
        "\n",
        "print (\"inserisci i valori di tre angoli di un triangolo\")\n",
        "x=float (input ())\n",
        "y=float (input ())\n",
        "z=float (input ())\n",
        "a= x+y+z\n",
        "if a==180 and x>0 and y>0 and z>0:\n",
        "    print (\"è un triangolo\")\n",
        "else:\n",
        "    print (\"non è un triangolo\")\n",
        "\n"
      ]
    },
    {
      "cell_type": "code",
      "execution_count": 10,
      "metadata": {
        "id": "r1A_DavcSKgi"
      },
      "outputs": [
        {
          "name": "stdout",
          "output_type": "stream",
          "text": [
            "inserisci i valori degli angoli di un triangolo\n",
            "è un triangolo\n",
            "è rettangolo\n"
          ]
        }
      ],
      "source": [
        "# Es 4.3: Ottenuti dall'utente tre angoli di un tringolo scrivere a schermo se i tre angoli descrivono un triangolo rettangolo o no\n",
        "print (\"inserisci i valori degli angoli di un triangolo\")\n",
        "x=float (input ())\n",
        "y=float (input ())\n",
        "z=float (input ())\n",
        "a=x+y+z\n",
        "if a==180 and x>0 and y>0 and z>0:\n",
        "    print (\"è un triangolo\")\n",
        "    if x!=90 and y!=90 and z!=90:\n",
        "        print (\"non è rettangolo\")\n",
        "    else:\n",
        "        print (\"è rettangolo\")\n",
        "else:\n",
        "    print (\"non è un triangolo\")"
      ]
    },
    {
      "cell_type": "code",
      "execution_count": 13,
      "metadata": {
        "id": "iA9D4X_GSims"
      },
      "outputs": [
        {
          "name": "stdout",
          "output_type": "stream",
          "text": [
            "non è un triangolo\n"
          ]
        }
      ],
      "source": [
        "# Es 4.4: Ottenuti dall'utente tre angoli di un tringolo scrivere a schermo se i tre angoli descrivono un triangolo equilatero o no\n",
        "x=float (input ())\n",
        "y=float (input ())\n",
        "z=float (input ())\n",
        "a=x+y+z \n",
        "if a==180 and x>0 and y>0 and z>0:\n",
        "    print (\"è un triangolo\")\n",
        "    if x==y==z:\n",
        "        print (\"gli angoli descrivono un triangolo equilatero\")\n",
        "    else:\n",
        "        print (\"il triangolo non è equilatero\")\n",
        "else:\n",
        "    print (\"non è un triangolo\")"
      ]
    },
    {
      "cell_type": "code",
      "execution_count": 16,
      "metadata": {
        "id": "8q4gadoTSU7J"
      },
      "outputs": [
        {
          "name": "stdout",
          "output_type": "stream",
          "text": [
            "è un triangolo\n",
            "è isoscele\n",
            "ed è anche equilatero\n"
          ]
        }
      ],
      "source": [
        "# Es 4.5: Ottenuti dall'utente tre angoli di un tringolo scrivere a schermo se i tre angoli descrivono un triangolo isocele o no\n",
        "x= float (input ())\n",
        "y= float (input ())\n",
        "z= float (input ())\n",
        "a=x+y+z\n",
        "if a==180 and x>0 and y>0 and z>0:\n",
        "    print (\"è un triangolo\")\n",
        "    if x==y or y==z or x==z:\n",
        "        print (\"è isoscele\")\n",
        "        if x==y==z:\n",
        "            print (\"ed è anche equilatero\")\n",
        "    else:\n",
        "        print (\"non è isoscele\")\n",
        "else:\n",
        "    print (\"non è un triangolo\")"
      ]
    },
    {
      "cell_type": "code",
      "execution_count": 40,
      "metadata": {
        "id": "yVIE2kK3SYlq"
      },
      "outputs": [
        {
          "name": "stdout",
          "output_type": "stream",
          "text": [
            "non è un triangolo\n"
          ]
        }
      ],
      "source": [
        "# Es 4.6: Ottenuti dall'utente tre angoli di un tringolo scrivere a schermo se i tre angoli descrivono un triangolo isocele, rettagolo, equilatero o scaleno\n",
        "x= float (input ())\n",
        "y= float (input ())\n",
        "z= float (input ())\n",
        "a=x+y+z\n",
        "if a==180 and x>0 and y>0 and z>0:\n",
        "    print (\"è un triangolo\")\n",
        "    if x!=y and y!=z and x!=z:\n",
        "        print (\"è scaleno\")\n",
        "    elif x==y==z:\n",
        "        print (\"è equilatero\")\n",
        "    elif x==y or y==z or x==z:\n",
        "        print (\"è isoscele\")\n",
        "    if x!=90 and y!=90 and z!=90:\n",
        "        print (\"non è rettangolo\")\n",
        "    else:\n",
        "        print (\"è rettangolo\")\n",
        "else:\n",
        "    print (\"non è un triangolo\")"
      ]
    },
    {
      "cell_type": "markdown",
      "metadata": {
        "id": "ef5snVxLqeQh"
      },
      "source": [
        "# Esercizi WHILE\n"
      ]
    },
    {
      "cell_type": "code",
      "execution_count": 32,
      "metadata": {
        "id": "j61RqiHxqdmh"
      },
      "outputs": [
        {
          "name": "stdout",
          "output_type": "stream",
          "text": [
            "inserisci il contenuto che intendi stampare\n",
            "inserisci quante volte intendi stampare il contenuto\n",
            "ciao\n",
            "ciao\n",
            "ciao\n"
          ]
        }
      ],
      "source": [
        "# Es 4.7: Creare una funzione print_n(n,v) che stampi n volte il. contenuto di v\n",
        "def print_n (n,v):\n",
        "    i=1\n",
        "    while i<=n:\n",
        "        print (v)\n",
        "        i=i+1\n",
        "print (\"inserisci il contenuto che intendi stampare\")\n",
        "v=(input ())\n",
        "print (\"inserisci quante volte intendi stampare il contenuto\")\n",
        "n= int (input ())\n",
        "while n<=0:\n",
        "    n= int (input ())\n",
        "print_n (n,v)"
      ]
    },
    {
      "cell_type": "code",
      "execution_count": 78,
      "metadata": {
        "colab": {
          "base_uri": "https://localhost:8080/"
        },
        "id": "-6lAm-hfq9w9",
        "outputId": "399e82ba-3cfe-475f-f8df-0e156677ec75"
      },
      "outputs": [
        {
          "name": "stdout",
          "output_type": "stream",
          "text": [
            "inserisci il tuo numero\n",
            "1\n",
            "7\n",
            "101\n"
          ]
        }
      ],
      "source": [
        "# Es 4.8: Inserito il numero n dire per quali numeri, compresi tra 1 e n, è divisibile.\n",
        "# Inserisco 10: stampo 1,2,5\n",
        "# Inserisco 7: stampo 1\n",
        "print (\"inserisci il tuo numero\")\n",
        "n= int (input ())\n",
        "while n<=0:\n",
        "    n= int (input ())\n",
        "m= n/2\n",
        "i=1\n",
        "while i<=m:\n",
        "    if n%i==0:\n",
        "        print (i)\n",
        "    i=i+1\n",
        "    \n"
      ]
    },
    {
      "cell_type": "code",
      "execution_count": 77,
      "metadata": {
        "colab": {
          "base_uri": "https://localhost:8080/"
        },
        "id": "GjC4LdR7rP-b",
        "outputId": "9f539b4d-c307-479a-da13-610a7e1cc46e"
      },
      "outputs": [
        {
          "name": "stdout",
          "output_type": "stream",
          "text": [
            "inserisci il tuo numero\n",
            "il numero non è primo\n"
          ]
        }
      ],
      "source": [
        "# Es 4.9: Inserito il numero n dire se è primo o no\n",
        "print (\"inserisci il tuo numero\")\n",
        "n= int (input ())\n",
        "while n<0:\n",
        "    n= int (input ())\n",
        "if n==0 or n==1:\n",
        "    print (\"il numero non è primo\")\n",
        "i=1\n",
        "controllo=0\n",
        "while i<=n:\n",
        "    if n%i==0:\n",
        "        controllo=controllo+1\n",
        "    i=i+1\n",
        "if controllo==2:\n",
        "    print (\"il numero è primo\")\n",
        "else:\n",
        "    print (\"il numero non è primo\")\n"
      ]
    },
    {
      "cell_type": "code",
      "execution_count": 87,
      "metadata": {
        "colab": {
          "base_uri": "https://localhost:8080/"
        },
        "id": "CxtWnOdHsTv4",
        "outputId": "5d874410-cb07-46a2-9c22-83d541b7a91a"
      },
      "outputs": [
        {
          "name": "stdout",
          "output_type": "stream",
          "text": [
            "inserisci il primo numero\n",
            "inserisci il secondo numero\n",
            "30\n"
          ]
        }
      ],
      "source": [
        "# Es 4.10: Creare la funzione moltiplica che restituisce il prodotto tra due numeri senza utilizzare *\n",
        "# 3*4 è uguale a 4+4+4\n",
        "def moltiplica (n,m):\n",
        "    i=1\n",
        "    x=m\n",
        "    while i<n:\n",
        "        m=m+x\n",
        "        i=i+1\n",
        "    print (m)\n",
        "print (\"inserisci il primo numero\")\n",
        "n= int (input ())\n",
        "print (\"inserisci il secondo numero\")\n",
        "m= int (input ())\n",
        "moltiplica (n,m)\n",
        "\n",
        "    "
      ]
    }
  ],
  "metadata": {
    "colab": {
      "provenance": []
    },
    "kernelspec": {
      "display_name": "Python 3",
      "name": "python3"
    },
    "language_info": {
      "codemirror_mode": {
        "name": "ipython",
        "version": 3
      },
      "file_extension": ".py",
      "mimetype": "text/x-python",
      "name": "python",
      "nbconvert_exporter": "python",
      "pygments_lexer": "ipython3",
      "version": "3.10.8"
    }
  },
  "nbformat": 4,
  "nbformat_minor": 0
}
